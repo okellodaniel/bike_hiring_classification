{
 "cells": [
  {
   "cell_type": "code",
   "id": "initial_id",
   "metadata": {
    "collapsed": true,
    "ExecuteTime": {
     "end_time": "2025-01-27T21:37:44.536923Z",
     "start_time": "2025-01-27T21:37:44.493144Z"
    }
   },
   "source": [
    "import requests\n",
    "import json"
   ],
   "outputs": [],
   "execution_count": 23
  },
  {
   "metadata": {
    "ExecuteTime": {
     "end_time": "2025-01-27T21:37:45.127622Z",
     "start_time": "2025-01-27T21:37:45.118183Z"
    }
   },
   "cell_type": "code",
   "source": [
    "sample_request = {'temperature_c': 12.2,\n",
    "  'humidity': 14,\n",
    "  'wind_speed_ms': 1.6,\n",
    "  'visibility_10m': 1896,\n",
    "  'dew_point_temperature_c': -14.5,\n",
    "  'solar_radiation_mjm2': 2.75,\n",
    "  'rainfallmm': 0.0,\n",
    "  'snowfall_cm': 0.0,\n",
    "  'seasons': 'spring',\n",
    "  'holiday': 'no_holiday',\n",
    "  'functioning_day': 'yes',\n",
    "  'month': 3,\n",
    "  'day': 3,\n",
    "  'dayofweek': 5,\n",
    "  'hour_sin': -0.25881904510252035,\n",
    "  'hour_cos': -0.9659258262890684\n",
    " }"
   ],
   "id": "e97162a4ff4026d7",
   "outputs": [],
   "execution_count": 24
  },
  {
   "metadata": {
    "ExecuteTime": {
     "end_time": "2025-01-27T21:37:48.863851Z",
     "start_time": "2025-01-27T21:37:46.128610Z"
    }
   },
   "cell_type": "code",
   "source": [
    "response = requests.post('http://127.0.0.1:5000', json=sample_request)\n",
    "response.raise_for_status()\n",
    "print(response.json())"
   ],
   "id": "dd258a34f820379c",
   "outputs": [
    {
     "ename": "HTTPError",
     "evalue": "500 Server Error: INTERNAL SERVER ERROR for url: http://127.0.0.1:5000/",
     "output_type": "error",
     "traceback": [
      "\u001B[0;31m---------------------------------------------------------------------------\u001B[0m",
      "\u001B[0;31mHTTPError\u001B[0m                                 Traceback (most recent call last)",
      "Cell \u001B[0;32mIn[25], line 2\u001B[0m\n\u001B[1;32m      1\u001B[0m response \u001B[38;5;241m=\u001B[39m requests\u001B[38;5;241m.\u001B[39mpost(\u001B[38;5;124m'\u001B[39m\u001B[38;5;124mhttp://127.0.0.1:5000\u001B[39m\u001B[38;5;124m'\u001B[39m, json\u001B[38;5;241m=\u001B[39msample_request)\n\u001B[0;32m----> 2\u001B[0m \u001B[43mresponse\u001B[49m\u001B[38;5;241;43m.\u001B[39;49m\u001B[43mraise_for_status\u001B[49m\u001B[43m(\u001B[49m\u001B[43m)\u001B[49m\n\u001B[1;32m      3\u001B[0m \u001B[38;5;28mprint\u001B[39m(response\u001B[38;5;241m.\u001B[39mjson())\n",
      "File \u001B[0;32m~/.virtualenvs/seoul_bike_sharing_demand/lib/python3.11/site-packages/requests/models.py:1024\u001B[0m, in \u001B[0;36mResponse.raise_for_status\u001B[0;34m(self)\u001B[0m\n\u001B[1;32m   1019\u001B[0m     http_error_msg \u001B[38;5;241m=\u001B[39m (\n\u001B[1;32m   1020\u001B[0m         \u001B[38;5;124mf\u001B[39m\u001B[38;5;124m\"\u001B[39m\u001B[38;5;132;01m{\u001B[39;00m\u001B[38;5;28mself\u001B[39m\u001B[38;5;241m.\u001B[39mstatus_code\u001B[38;5;132;01m}\u001B[39;00m\u001B[38;5;124m Server Error: \u001B[39m\u001B[38;5;132;01m{\u001B[39;00mreason\u001B[38;5;132;01m}\u001B[39;00m\u001B[38;5;124m for url: \u001B[39m\u001B[38;5;132;01m{\u001B[39;00m\u001B[38;5;28mself\u001B[39m\u001B[38;5;241m.\u001B[39murl\u001B[38;5;132;01m}\u001B[39;00m\u001B[38;5;124m\"\u001B[39m\n\u001B[1;32m   1021\u001B[0m     )\n\u001B[1;32m   1023\u001B[0m \u001B[38;5;28;01mif\u001B[39;00m http_error_msg:\n\u001B[0;32m-> 1024\u001B[0m     \u001B[38;5;28;01mraise\u001B[39;00m HTTPError(http_error_msg, response\u001B[38;5;241m=\u001B[39m\u001B[38;5;28mself\u001B[39m)\n",
      "\u001B[0;31mHTTPError\u001B[0m: 500 Server Error: INTERNAL SERVER ERROR for url: http://127.0.0.1:5000/"
     ]
    }
   ],
   "execution_count": 25
  },
  {
   "metadata": {},
   "cell_type": "code",
   "outputs": [],
   "execution_count": null,
   "source": "",
   "id": "394bf9af88b54825"
  }
 ],
 "metadata": {
  "kernelspec": {
   "display_name": "Python 3",
   "language": "python",
   "name": "python3"
  },
  "language_info": {
   "codemirror_mode": {
    "name": "ipython",
    "version": 2
   },
   "file_extension": ".py",
   "mimetype": "text/x-python",
   "name": "python",
   "nbconvert_exporter": "python",
   "pygments_lexer": "ipython2",
   "version": "2.7.6"
  }
 },
 "nbformat": 4,
 "nbformat_minor": 5
}
