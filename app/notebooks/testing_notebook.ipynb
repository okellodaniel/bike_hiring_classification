{
 "cells": [
  {
   "cell_type": "code",
   "execution_count": 9,
   "id": "initial_id",
   "metadata": {
    "ExecuteTime": {
     "end_time": "2025-01-27T21:37:44.536923Z",
     "start_time": "2025-01-27T21:37:44.493144Z"
    },
    "collapsed": true
   },
   "outputs": [],
   "source": [
    "import requests\n",
    "import json"
   ]
  },
  {
   "cell_type": "code",
   "execution_count": 10,
   "id": "e97162a4ff4026d7",
   "metadata": {
    "ExecuteTime": {
     "end_time": "2025-01-27T21:37:45.127622Z",
     "start_time": "2025-01-27T21:37:45.118183Z"
    }
   },
   "outputs": [],
   "source": [
    "sample_request = {'temperature_c': 12.2,\n",
    "  'humidity': 14,\n",
    "  'wind_speed_ms': 1.6,\n",
    "  'visibility_10m': 1896,\n",
    "  'dew_point_temperature_c': -14.5,\n",
    "  'solar_radiation_mjm2': 2.75,\n",
    "  'rainfallmm': 0.0,\n",
    "  'snowfall_cm': 0.0,\n",
    "  'seasons': 'spring',\n",
    "  'holiday': 'no_holiday',\n",
    "  'functioning_day': 'yes',\n",
    "  'month': 3,\n",
    "  'day': 3,\n",
    "  'dayofweek': 5,\n",
    "  'hour_sin': -0.25881904510252035,\n",
    "  'hour_cos': -0.9659258262890684\n",
    " }"
   ]
  },
  {
   "cell_type": "code",
   "execution_count": 11,
   "id": "dd258a34f820379c",
   "metadata": {
    "ExecuteTime": {
     "end_time": "2025-01-27T21:37:48.863851Z",
     "start_time": "2025-01-27T21:37:46.128610Z"
    }
   },
   "outputs": [
    {
     "name": "stdout",
     "output_type": "stream",
     "text": [
      "{'predicted_count': 403.0}\n"
     ]
    }
   ],
   "source": [
    "response = requests.post('http://127.0.0.1:9696', json=sample_request)\n",
    "response.raise_for_status()\n",
    "print(response.json())"
   ]
  }
 ],
 "metadata": {
  "kernelspec": {
   "display_name": "base",
   "language": "python",
   "name": "python3"
  },
  "language_info": {
   "codemirror_mode": {
    "name": "ipython",
    "version": 3
   },
   "file_extension": ".py",
   "mimetype": "text/x-python",
   "name": "python",
   "nbconvert_exporter": "python",
   "pygments_lexer": "ipython3",
   "version": "3.12.4"
  }
 },
 "nbformat": 4,
 "nbformat_minor": 5
}
